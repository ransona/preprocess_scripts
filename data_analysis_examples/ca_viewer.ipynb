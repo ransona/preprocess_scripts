{
 "cells": [
  {
   "cell_type": "code",
   "execution_count": 1,
   "metadata": {},
   "outputs": [],
   "source": [
    "userID = 'adamranson'\n",
    "expID = '2023-03-01_01_ESMT107'"
   ]
  },
  {
   "cell_type": "code",
   "execution_count": 2,
   "metadata": {},
   "outputs": [],
   "source": [
    "import pickle\n",
    "import os\n",
    "import organise_paths\n",
    "import numpy as np\n",
    "import matplotlib.pyplot as plt\n",
    "import pandas as pd\n",
    "import time\n",
    "\n",
    "import cv2\n",
    "from io import BytesIO\n",
    "import IPython.display as display\n",
    "from ipywidgets import interact, interactive, fixed, interact_manual, Button, HBox, VBox, Label, Image as ImageWidget\n",
    "import ipywidgets as widgets\n",
    "from PIL import Image\n",
    "import threading\n",
    "from scipy.ndimage import median_filter\n",
    "\n",
    "animalID, remote_repository_root, processed_root, exp_dir_processed, exp_dir_raw = organise_paths.find_paths(userID, expID)\n",
    "exp_dir_processed_recordings = os.path.join(exp_dir_processed,'recordings')\n",
    "exp_dir_processed_cut = os.path.join(exp_dir_processed,'cut')\n",
    "\n"
   ]
  },
  {
   "attachments": {},
   "cell_type": "markdown",
   "metadata": {},
   "source": [
    "# Whole experiment view"
   ]
  },
  {
   "attachments": {},
   "cell_type": "markdown",
   "metadata": {},
   "source": [
    "## All rois"
   ]
  },
  {
   "cell_type": "code",
   "execution_count": 3,
   "metadata": {},
   "outputs": [],
   "source": [
    "# check how many channels there are\n",
    "ca_data = {}\n",
    "try:\n",
    "    ca_data['green'] = pickle.load(open(os.path.join(exp_dir_processed_recordings,('s2p_ch' + str(0)+'.pickle')), \"rb\"))\n",
    "except:\n",
    "    dummy=0\n",
    "    # a channel not found\n",
    "\n",
    "try:\n",
    "    ca_data['red'] = pickle.load(open(os.path.join(exp_dir_processed_recordings,('s2p_ch' + str(1)+'.pickle')), \"rb\"))\n",
    "except:\n",
    "    dummy=0\n",
    "    # a channel not found\n",
    "\n",
    "if 'green' in ca_data.keys():\n",
    "    plt.imshow(ca_data['green']['dF'], cmap='gray', extent=[0, 10, 1, 5], aspect='auto')\n",
    "    plt.show()"
   ]
  },
  {
   "attachments": {},
   "cell_type": "markdown",
   "metadata": {},
   "source": [
    "## Pupil properties vs time"
   ]
  },
  {
   "cell_type": "code",
   "execution_count": 4,
   "metadata": {},
   "outputs": [
    {
     "ename": "FileNotFoundError",
     "evalue": "[Errno 2] No such file or directory: '/home/adamranson/data/Repository/ESMT107/2023-03-01_01_ESMT107/recordings/dlcEyeLeft_resampled.pickle'",
     "output_type": "error",
     "traceback": [
      "\u001b[0;31m---------------------------------------------------------------------------\u001b[0m",
      "\u001b[0;31mFileNotFoundError\u001b[0m                         Traceback (most recent call last)",
      "Cell \u001b[0;32mIn[4], line 1\u001b[0m\n\u001b[0;32m----> 1\u001b[0m left_resampled \u001b[39m=\u001b[39m pickle\u001b[39m.\u001b[39mload(\u001b[39mopen\u001b[39;49m(os\u001b[39m.\u001b[39;49mpath\u001b[39m.\u001b[39;49mjoin(exp_dir_processed_recordings,\u001b[39m'\u001b[39;49m\u001b[39mdlcEyeLeft_resampled.pickle\u001b[39;49m\u001b[39m'\u001b[39;49m), \u001b[39m\"\u001b[39;49m\u001b[39mrb\u001b[39;49m\u001b[39m\"\u001b[39;49m))\n\u001b[1;32m      2\u001b[0m right_resampled \u001b[39m=\u001b[39m pickle\u001b[39m.\u001b[39mload(\u001b[39mopen\u001b[39m(os\u001b[39m.\u001b[39mpath\u001b[39m.\u001b[39mjoin(exp_dir_processed_recordings,\u001b[39m'\u001b[39m\u001b[39mdlcEyeRight_resampled.pickle\u001b[39m\u001b[39m'\u001b[39m), \u001b[39m\"\u001b[39m\u001b[39mrb\u001b[39m\u001b[39m\"\u001b[39m))\n\u001b[1;32m      4\u001b[0m \u001b[39m# Create a 3-row subplot to plot pupil position, radius and velocity\u001b[39;00m\n",
      "File \u001b[0;32m~/miniconda3/envs/sci/lib/python3.9/site-packages/IPython/core/interactiveshell.py:282\u001b[0m, in \u001b[0;36m_modified_open\u001b[0;34m(file, *args, **kwargs)\u001b[0m\n\u001b[1;32m    275\u001b[0m \u001b[39mif\u001b[39;00m file \u001b[39min\u001b[39;00m {\u001b[39m0\u001b[39m, \u001b[39m1\u001b[39m, \u001b[39m2\u001b[39m}:\n\u001b[1;32m    276\u001b[0m     \u001b[39mraise\u001b[39;00m \u001b[39mValueError\u001b[39;00m(\n\u001b[1;32m    277\u001b[0m         \u001b[39mf\u001b[39m\u001b[39m\"\u001b[39m\u001b[39mIPython won\u001b[39m\u001b[39m'\u001b[39m\u001b[39mt let you open fd=\u001b[39m\u001b[39m{\u001b[39;00mfile\u001b[39m}\u001b[39;00m\u001b[39m by default \u001b[39m\u001b[39m\"\u001b[39m\n\u001b[1;32m    278\u001b[0m         \u001b[39m\"\u001b[39m\u001b[39mas it is likely to crash IPython. If you know what you are doing, \u001b[39m\u001b[39m\"\u001b[39m\n\u001b[1;32m    279\u001b[0m         \u001b[39m\"\u001b[39m\u001b[39myou can use builtins\u001b[39m\u001b[39m'\u001b[39m\u001b[39m open.\u001b[39m\u001b[39m\"\u001b[39m\n\u001b[1;32m    280\u001b[0m     )\n\u001b[0;32m--> 282\u001b[0m \u001b[39mreturn\u001b[39;00m io_open(file, \u001b[39m*\u001b[39;49margs, \u001b[39m*\u001b[39;49m\u001b[39m*\u001b[39;49mkwargs)\n",
      "\u001b[0;31mFileNotFoundError\u001b[0m: [Errno 2] No such file or directory: '/home/adamranson/data/Repository/ESMT107/2023-03-01_01_ESMT107/recordings/dlcEyeLeft_resampled.pickle'"
     ]
    }
   ],
   "source": [
    "left_resampled = pickle.load(open(os.path.join(exp_dir_processed_recordings,'dlcEyeLeft_resampled.pickle'), \"rb\"))\n",
    "right_resampled = pickle.load(open(os.path.join(exp_dir_processed_recordings,'dlcEyeRight_resampled.pickle'), \"rb\"))\n",
    "\n",
    "# Create a 3-row subplot to plot pupil position, radius and velocity\n",
    "fig, axs = plt.subplots(4, 1, figsize=(8, 10))\n",
    "# Plot data on each subplot\n",
    "axs[0].plot(left_resampled['t'], left_resampled['x']-np.nanmedian(left_resampled['x']), color = 'skyblue')\n",
    "axs[0].plot(left_resampled['t'], left_resampled['y']-np.nanmedian(left_resampled['y']), color = 'navy')\n",
    "axs[0].set_title('Left pupil x (light) and y (dark) position')\n",
    "axs[0].set_xlabel('Time(s)')\n",
    "axs[0].set_ylabel('Normalised position (pix)')\n",
    "\n",
    "axs[1].plot(right_resampled['t'], right_resampled['x']-np.nanmedian(right_resampled['x']), color = 'lightcoral')\n",
    "axs[1].plot(right_resampled['t'], right_resampled['y']-np.nanmedian(right_resampled['y']), color = 'maroon')\n",
    "axs[1].set_title('Right pupil x (light) and y (dark) position')\n",
    "axs[1].set_xlabel('Time(s)')\n",
    "axs[1].set_ylabel('Normalised position (pix)')\n",
    "\n",
    "axs[2].plot(left_resampled['t'], left_resampled['radius'], color = 'blue')\n",
    "axs[2].plot(right_resampled['t'], right_resampled['radius'], color = 'red')\n",
    "axs[2].set_title('Pupil radius of left (blue) and right (red) eye')\n",
    "axs[2].set_xlabel('Time(s)')\n",
    "axs[2].set_ylabel('Normalised radius (pix)')\n",
    "\n",
    "axs[3].plot(left_resampled['t'], left_resampled['velocity'], color = 'blue')\n",
    "axs[3].plot(right_resampled['t'], right_resampled['velocity'], color = 'red')\n",
    "axs[3].set_title('Pupil velocity of left (blue) and right (red) eye')\n",
    "axs[3].set_xlabel('Time(s)')\n",
    "axs[3].set_ylabel('Normalised velocity (pix)')\n",
    "# Add overall title and adjust spacing\n",
    "fig.suptitle('Summary of pupil data')\n",
    "fig.tight_layout()\n",
    "# Show the plot\n",
    "plt.show()"
   ]
  }
 ],
 "metadata": {
  "kernelspec": {
   "display_name": "sci",
   "language": "python",
   "name": "python3"
  },
  "language_info": {
   "codemirror_mode": {
    "name": "ipython",
    "version": 3
   },
   "file_extension": ".py",
   "mimetype": "text/x-python",
   "name": "python",
   "nbconvert_exporter": "python",
   "pygments_lexer": "ipython3",
   "version": "3.9.16"
  },
  "orig_nbformat": 4
 },
 "nbformat": 4,
 "nbformat_minor": 2
}
